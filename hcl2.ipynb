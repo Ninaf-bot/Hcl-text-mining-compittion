{
  "nbformat": 4,
  "nbformat_minor": 0,
  "metadata": {
    "colab": {
      "name": "hcl2.ipynb",
      "provenance": []
    },
    "kernelspec": {
      "name": "python3",
      "display_name": "Python 3"
    }
  },
  "cells": [
    {
      "cell_type": "code",
      "metadata": {
        "id": "wG0pTY2zu1ZH",
        "colab_type": "code",
        "colab": {}
      },
      "source": [
        "import pandas as pd\n",
        "import numpy as np\n",
        "from nltk.tokenize import word_tokenize\n",
        "from nltk.tokenize import sent_tokenize\n",
        "import os\n",
        "import json\n",
        "import re\n",
        "\n",
        "\n",
        "results=pd.read_csv('D:/dataset/New folder/HCL ML Challenge/results.csv')\n",
        "li_files=results['Filename']"
      ],
      "execution_count": 0,
      "outputs": []
    },
    {
      "cell_type": "code",
      "metadata": {
        "id": "RKitz7U6wPMl",
        "colab_type": "code",
        "colab": {}
      },
      "source": [
        "text_list=[]\n",
        "for i in li_files:\n",
        "    f=open('D:/dataset/New folder/HCL ML Challenge/HCL ML Challenge Dataset/{}.txt'.format(i),'r')\n",
        "    \n",
        "    st=f.read()\n",
        "    st=st.replace('Â','')\n",
        "    text_list.append(st)\n",
        "file1=text_list[122]"
      ],
      "execution_count": 0,
      "outputs": []
    },
    {
      "cell_type": "code",
      "metadata": {
        "id": "qRqVG0600dwx",
        "colab_type": "code",
        "outputId": "031b3aba-603c-426b-8c69-c7a9a43beae8",
        "colab": {
          "base_uri": "https://localhost:8080/",
          "height": 435
        }
      },
      "source": [
        "file1_sent=file1.splitlines()\n",
        "for i in file1_sent:\n",
        "  print(i)\n",
        " \n"
      ],
      "execution_count": 0,
      "outputs": [
        {
          "output_type": "stream",
          "text": [
            "                                                             Micro-entity Balance Sheet as at 31 July 2019                                                                                                                                                                                                                                                                                                                                                                                                                                                                                                                    \n",
            "                                                                                                                              Notes          2019           2018                                                                                                                                                                                                                                                                                                                                                                                                                                                                                                                    \n",
            "                                                                                                                                                   £              £                                                                                                                                                                                                                                                                                                                                                                                                                                                                                                                    \n",
            "                                  Current Assets                                                                                            6,160          2,000                                                                                                                                                                                                                                                                                                                                                                                                                                                                                                                    \n",
            "                                  Creditors: amounts falling due within one year                                                           (6,028)        (1,974)                                                                                                                                                                                                                                                                                                                                                                                                                                                                                                                    \n",
            "                                  Net current assets (liabilities)                                                                              132             26                                                                                                                                                                                                                                                                                                                                                                                                                                                                                                                    \n",
            "                                  Total assets less current liabilities                                                                         132             26                                                                                                                                                                                                                                                                                                                                                                                                                                                                                                                    \n",
            "                                  Total net assets (liabilities)                                                                                132             26                                                                                                                                                                                                                                                                                                                                                                                                                                                                                                                    \n",
            "                                  Capital and reserves                                                                                          132             26                                                                                                                                                                                                                                                                                                                                                                                                                                                                                                                    \n",
            "                    ®    For the year ending 31 July 2019 the company was entities to exemption under section 477 of the                                                                                                                                                                                                                                                                                                                                                                                                                                                                                                                    \n",
            "                         Companies Act 2006 relating to small companies                                                                                                                                                                                                                                                                                                                                                                                                                                                                                                                    \n",
            "                         The members have not required the company to obtain an audit in accordance with section 476 of                                                                                                                                                                                                                                                                                                                                                                                                                                                                                                                    \n",
            "                         the Companies Act 2006.                                                                                                                                                                                                                                                                                                                                                                                                                                                                                                                    \n",
            "                    ®    The director acknowledge their responsibilities for complying with the requirements of the                                                                                                                                                                                                                                                                                                                                                                                                                                                                                                                    \n",
            "                         Companies Act 2006 with respect to accounting                                records and the preparation of accounts.                                                                                                                                                                                                                                                                                                                                                                                                                                                                                                                    \n",
            "                         The accounts          have been prepared in accordance with the micro-entity provisions and delivered in                                                                                                                                                                                                                                                                                                                                                                                                                                                                                                                    \n",
            "                         accordance with the provisions applicable to companies subjcct to the small companies regime.                                                                                                                                                                                                                                                                                                                                                                                                                                                                                                                    \n",
            "               Approved by the Board on 27 January 2020                                                                                                                                                                                                                                                                                                                                                                                                                                                                                                                    \n",
            "               And signed on their behalf by:                                                                                                                                                                                                                                                                                                                                                                                                                                                                                                                    \n",
            "               R Mahmood, Director                                                                                                                                                                                                                                                                                                                                                                                                                                                                                                                    \n",
            "               This document was delivered using electronic communications and authenticated in accordance with the                                                                                                                                                                                                                                                                                                                                                                                                                                                                                                                    \n",
            "               registrar's rules relating to electronic form, authentication and manner of delivery under section 1072 of                                                                                                                                                                                                                                                                                                                                                                                                                                                                                                                    \n",
            "               the Companies Act 2006.                                                                                                                                                                                                                                                                                                                                                                                                                                                                                                                    \n"
          ],
          "name": "stdout"
        }
      ]
    },
    {
      "cell_type": "code",
      "metadata": {
        "id": "cDUiW89473S3",
        "colab_type": "code",
        "outputId": "43d1934f-cdde-4393-b5a6-ccf44f973833",
        "colab": {
          "base_uri": "https://localhost:8080/",
          "height": 183
        }
      },
      "source": [
        "def important_text(doc):\n",
        "  flag=0\n",
        "  flag1=0\n",
        "  flag2=0\n",
        "  flag3=0\n",
        "  important_text=[]\n",
        "  year=[]\n",
        "  important_sent=[]\n",
        "  pun=['{','.','nan',':',\"'\",'``', \"''\", '``','}','(',')']\n",
        "  n=0\n",
        "  for i in doc:\n",
        "    tokenized_sent=word_tokenize(i)\n",
        "    t=0\n",
        "    for j in tokenized_sent:\n",
        "      if j=='2019' or j=='2020' or j=='2018':\n",
        "        flag=1\n",
        "        for y in tokenized_sent:\n",
        "          if y.isnumeric():\n",
        "            year.append(y)\n",
        "        break\n",
        "      if t==2:\n",
        "        break\n",
        "      t+=1\n",
        "    #print(flag,tokenized_sent)\n",
        "    I=[]\n",
        "    for j in tokenized_sent:\n",
        "      if j not in pun:\n",
        "        I.append(j.replace(',',''))\n",
        "    l=len(I)\n",
        "    l_year=len(year)\n",
        "    if n>5:\n",
        "      if l>0:\n",
        "        for j in range(1,l_year+1):\n",
        "          if I[-j].isnumeric()==False and I[-j]!='-':\n",
        "            flag=0\n",
        "    if flag==1:\n",
        "      important_text.append(i)\n",
        "    n+=1\n",
        "  year.reverse()\n",
        "  if '2019'in year:\n",
        "    index=year.index('2019')\n",
        "  else:\n",
        "    index=-1\n",
        "\n",
        "  for i in important_text[2:]:\n",
        "    flag=0\n",
        "    i = re.sub(' +',' ',i.strip())\n",
        "    for j in range(0,len(i)-1):\n",
        "      if i[j]=='(':\n",
        "        if i[j+1].isnumeric():\n",
        "          i=i[:j]+'-'+i[j+1:]\n",
        "          flag=1\n",
        "      if i[j]==')':\n",
        "        if flag==1:\n",
        "          i=i[:j]+i[j+1:]\n",
        "          flag=0\n",
        "    important_sent.append(i)\n",
        "    i_new=''\n",
        "    flga1=0\n",
        "    if index>-1:\n",
        "      if index==0: \n",
        "        for z in range(len(i)-1,-1,-1):\n",
        "          if i[z]==' ' and l_year>1:\n",
        "            if flag1==0:\n",
        "              i_new=i[z+1:]\n",
        "              flag1=1\n",
        "            else:\n",
        "              if i[z-1].isnumeric()==False and i[z-1]!='-':\n",
        "                i_new=i[0:z]+' '+i_new\n",
        "                flag1=0\n",
        "                break\n",
        "          elif i[z]==' ' and l_year==1:\n",
        "            i_new=i\n",
        "            \n",
        "\n",
        "    else:\n",
        "      for z in range(len(i)-1,-1,-1): \n",
        "        if i[z]==' ':\n",
        "          if flag1==0:\n",
        "            i_new=i[z+1:]\n",
        "            flag1=1\n",
        "          elif i[z-1].isnumeric()==False and i[z-1]!='-':\n",
        "            i_new=i[0:z]\n",
        "            break\n",
        "      \n",
        "    print(i_new)\n",
        "  \n",
        "\n",
        "\n",
        "\n",
        "  return important_sent,year\n",
        "\n",
        "important_sent,year=important_text(file1_sent)\n",
        "\n",
        "print(important_sent)\n",
        "year"
      ],
      "execution_count": 0,
      "outputs": [
        {
          "output_type": "stream",
          "text": [
            "\n",
            "\n",
            "\n",
            "\n",
            "\n",
            "\n",
            "['Current Assets 6,160 2,000', 'Creditors: amounts falling due within one year -6,028 -1,974', 'Net current assets (liabilities) 132 26', 'Total assets less current liabilities 132 26', 'Total net assets (liabilities) 132 26', 'Capital and reserves 132 26']\n"
          ],
          "name": "stdout"
        },
        {
          "output_type": "execute_result",
          "data": {
            "text/plain": [
              "['2018', '2019']"
            ]
          },
          "metadata": {
            "tags": []
          },
          "execution_count": 7
        }
      ]
    },
    {
      "cell_type": "code",
      "metadata": {
        "id": "NrFCaOyzcYhL",
        "colab_type": "code",
        "outputId": "f96fa1c6-5ed8-4659-9513-9b6522e79552",
        "colab": {
          "base_uri": "https://localhost:8080/",
          "height": 108
        }
      },
      "source": [
        "for z in range(5-1,-1,-1):\n",
        "  print(z)"
      ],
      "execution_count": 0,
      "outputs": [
        {
          "output_type": "stream",
          "text": [
            "4\n",
            "3\n",
            "2\n",
            "1\n",
            "0\n"
          ],
          "name": "stdout"
        }
      ]
    },
    {
      "cell_type": "code",
      "metadata": {
        "id": "MSqUmUB0zoab",
        "colab_type": "code",
        "outputId": "4f8bfdfa-457b-4848-9c9b-081e83586dd3",
        "colab": {
          "base_uri": "https://localhost:8080/",
          "height": 35
        }
      },
      "source": [
        "s=['Called', 'up', 'share', 'capital', 'not', 'paid', '-', '-']\n",
        "s.reverse()\n",
        "print(s)"
      ],
      "execution_count": 0,
      "outputs": [
        {
          "output_type": "stream",
          "text": [
            "['-', '-', 'paid', 'not', 'capital', 'share', 'up', 'Called']\n"
          ],
          "name": "stdout"
        }
      ]
    },
    {
      "cell_type": "code",
      "metadata": {
        "id": "XAfASlXRgWBK",
        "colab_type": "code",
        "outputId": "98685e92-6ccf-483e-805a-a60a892cffd1",
        "colab": {
          "base_uri": "https://localhost:8080/",
          "height": 35
        }
      },
      "source": [
        "s='Current assets {2,290)'\n",
        "print(word_tokenize(s))"
      ],
      "execution_count": 0,
      "outputs": [
        {
          "output_type": "stream",
          "text": [
            "['Current', 'assets', '{', '2,290', ')']\n"
          ],
          "name": "stdout"
        }
      ]
    }
  ]
}